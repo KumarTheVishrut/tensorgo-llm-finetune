{
 "cells": [
  {
   "cell_type": "code",
   "execution_count": 1,
   "id": "4300a001-a67d-4180-87ca-f20267d2ff08",
   "metadata": {},
   "outputs": [],
   "source": [
    "import json\n",
    "from datasets import load_dataset"
   ]
  },
  {
   "cell_type": "code",
   "execution_count": 2,
   "id": "245888cb-6d81-4476-b574-18eb7517e58e",
   "metadata": {},
   "outputs": [],
   "source": [
    "dataset = load_dataset(\"fka/awesome-chatgpt-prompts\") # getting this off huggingface\n",
    "\n",
    "split_ratio = 0.8\n",
    "train_size = int(len(dataset['train']) * split_ratio) # test eval splir\n",
    "\n",
    "train_data = dataset['train'].select(range(train_size))  #train data\n",
    "eval_data = dataset['train'].select(range(train_size, len(dataset['train']))) # evaluation data  \n",
    "\n",
    "def write_jsonl(data, filename):\n",
    "    with open(filename, 'w') as f:\n",
    "        for row in data:\n",
    "            json_record = {\"act\": row[\"act\"], \"prompt\": row[\"prompt\"]} # making of jsonl for llms\n",
    "            f.write(json.dumps(json_record) + '\\n')\n",
    "\n",
    "write_jsonl(train_data, 'train.jsonl')\n",
    "write_jsonl(eval_data, 'eval.jsonl')"
   ]
  },
  {
   "cell_type": "code",
   "execution_count": 5,
   "id": "1d1a2af8-a5a6-4f7e-bdcd-216c732de146",
   "metadata": {},
   "outputs": [],
   "source": [
    "# nesecarry packages\n",
    "!pip install -q -U bitsandbytes"
   ]
  },
  {
   "cell_type": "code",
   "execution_count": 6,
   "id": "4395b01e-ff81-4b4d-86a7-af6f0c1362af",
   "metadata": {},
   "outputs": [],
   "source": [
    "!pip install -q -U git+https://github.com/huggingface/transformers.git"
   ]
  },
  {
   "cell_type": "code",
   "execution_count": 7,
   "id": "24fa2823-a0cc-48e7-ad9e-6801ca97e956",
   "metadata": {},
   "outputs": [],
   "source": [
    "!pip install -q -U git+https://github.com/huggingface/peft.git"
   ]
  },
  {
   "cell_type": "code",
   "execution_count": 8,
   "id": "4ea51a8e-6506-4f31-a215-5046183e5df4",
   "metadata": {},
   "outputs": [],
   "source": [
    "!pip install -q -U git+https://github.com/huggingface/accelerate.git"
   ]
  },
  {
   "cell_type": "code",
   "execution_count": 9,
   "id": "d611e74f-4c66-4fbc-a9c5-7b238e32f11d",
   "metadata": {},
   "outputs": [],
   "source": [
    "!pip install -q -U datasets scipy ipywidgets matplotlib einops"
   ]
  },
  {
   "cell_type": "code",
   "execution_count": 3,
   "id": "cc63f14f-69bb-4cb6-aefc-558f81307abf",
   "metadata": {},
   "outputs": [
    {
     "name": "stderr",
     "output_type": "stream",
     "text": [
      "Failed to detect the name of this notebook, you can set it manually with the WANDB_NOTEBOOK_NAME environment variable to enable code saving.\n",
      "\u001b[34m\u001b[1mwandb\u001b[0m: Using wandb-core as the SDK backend. Please refer to https://wandb.me/wandb-core for more information.\n",
      "\u001b[34m\u001b[1mwandb\u001b[0m: Currently logged in as: \u001b[33mminimalistnewsalerts\u001b[0m (\u001b[33mminimalistnewsalerts-sri-sri-university\u001b[0m). Use \u001b[1m`wandb login --relogin`\u001b[0m to force relogin\n"
     ]
    }
   ],
   "source": [
    "\n",
    "!pip install -q wandb -U\n",
    "\n",
    "import wandb, os\n",
    "wandb.login()\n",
    "\n",
    "wandb_project = \"journal-finetune\"\n",
    "if len(wandb_project) > 0:\n",
    "    os.environ[\"WANDB_PROJECT\"] = wandb_project\n",
    "\n"
   ]
  },
  {
   "cell_type": "code",
   "execution_count": 4,
   "id": "02194706-49ad-4a7e-8314-50cebcc50e1e",
   "metadata": {},
   "outputs": [
    {
     "data": {
      "application/vnd.jupyter.widget-view+json": {
       "model_id": "acaf829cfb354cfeb0fa9fb35737f7db",
       "version_major": 2,
       "version_minor": 0
      },
      "text/plain": [
       "Generating train split: 0 examples [00:00, ? examples/s]"
      ]
     },
     "metadata": {},
     "output_type": "display_data"
    },
    {
     "data": {
      "application/vnd.jupyter.widget-view+json": {
       "model_id": "80d668a1ceaf48fa9ad4e49562c472cd",
       "version_major": 2,
       "version_minor": 0
      },
      "text/plain": [
       "Generating train split: 0 examples [00:00, ? examples/s]"
      ]
     },
     "metadata": {},
     "output_type": "display_data"
    }
   ],
   "source": [
    "from datasets import load_dataset\n",
    "\n",
    "train_dataset = load_dataset('json', data_files='train.jsonl', split='train')\n",
    "eval_dataset = load_dataset('json', data_files='eval.jsonl', split='train')"
   ]
  },
  {
   "cell_type": "code",
   "execution_count": 5,
   "id": "4f7f05f5-6b0c-4d4e-b817-c98bc96c99cd",
   "metadata": {},
   "outputs": [
    {
     "data": {
      "application/vnd.jupyter.widget-view+json": {
       "model_id": "7c7fbec4651c4d438f9a568cdc631f95",
       "version_major": 2,
       "version_minor": 0
      },
      "text/plain": [
       "Loading checkpoint shards:   0%|          | 0/2 [00:00<?, ?it/s]"
      ]
     },
     "metadata": {},
     "output_type": "display_data"
    }
   ],
   "source": [
    "from transformers import AutoModelForCausalLM, AutoTokenizer\n",
    "\n",
    "base_model_id = \"microsoft/phi-2\"\n",
    "local_dir = \"./microsoftphi2-better\"\n",
    "\n",
    "model = AutoModelForCausalLM.from_pretrained(base_model_id, cache_dir=local_dir)\n",
    "tokenizer = AutoTokenizer.from_pretrained(base_model_id, cache_dir=local_dir)\n",
    "tokenizer.pad_token = tokenizer.eos_token\n",
    "\n",
    "def generate_and_tokenize_prompt(prompt):\n",
    "    return tokenizer(formatting_func(prompt))"
   ]
  },
  {
   "cell_type": "code",
   "execution_count": 6,
   "id": "d509a043-30d5-4cf3-9bf4-ebeefda71d65",
   "metadata": {},
   "outputs": [],
   "source": [
    "def formatting_func(example):\n",
    "    text = f\"### Act: {example['act']}\\n### Prompt: {example['prompt']}\"\n",
    "    return text\n"
   ]
  },
  {
   "cell_type": "code",
   "execution_count": 7,
   "id": "a8a93f27-3b2d-4400-a56c-0761ba0b9d36",
   "metadata": {},
   "outputs": [
    {
     "name": "stdout",
     "output_type": "stream",
     "text": [
      "{'act': 'An Ethereum Developer', 'prompt': 'Imagine you are an experienced Ethereum developer tasked with creating a smart contract for a blockchain messenger. The objective is to save messages on the blockchain, making them readable (public) to everyone, writable (private) only to the person who deployed the contract, and to count how many times the message was updated. Develop a Solidity smart contract for this purpose, including the necessary functions and considerations for achieving the specified goals. Please provide the code and any relevant explanations to ensure a clear understanding of the implementation.'}\n",
      "{'act': ['An Ethereum Developer', 'SEO Prompt', 'Linux Terminal', 'English Translator and Improver', '`position` Interviewer'], 'prompt': ['Imagine you are an experienced Ethereum developer tasked with creating a smart contract for a blockchain messenger. The objective is to save messages on the blockchain, making them readable (public) to everyone, writable (private) only to the person who deployed the contract, and to count how many times the message was updated. Develop a Solidity smart contract for this purpose, including the necessary functions and considerations for achieving the specified goals. Please provide the code and any relevant explanations to ensure a clear understanding of the implementation.', \"Using WebPilot, create an outline for an article that will be 2,000 words on the keyword 'Best SEO prompts' based on the top 10 results from Google. Include every relevant heading possible. Keep the keyword density of the headings high. For each section of the outline, include the word count. Include FAQs section in the outline too, based on people also ask section from Google for the keyword. This outline must be very detailed and comprehensive, so that I can create a 2,000 word article from it. Generate a long list of LSI and NLP keywords related to my keyword. Also include any other words related to the keyword. Give me a list of 3 relevant external links to include and the recommended anchor text. Make sure they’re not competing articles. Split the outline into part 1 and part 2.\", 'I want you to act as a linux terminal. I will type commands and you will reply with what the terminal should show. I want you to only reply with the terminal output inside one unique code block, and nothing else. do not write explanations. do not type commands unless I instruct you to do so. when i need to tell you something in english, i will do so by putting text inside curly brackets {like this}. my first command is pwd', 'I want you to act as an English translator, spelling corrector and improver. I will speak to you in any language and you will detect the language, translate it and answer in the corrected and improved version of my text, in English. I want you to replace my simplified A0-level words and sentences with more beautiful and elegant, upper level English words and sentences. Keep the meaning same, but make them more literary. I want you to only reply the correction, the improvements and nothing else, do not write explanations. My first sentence is \"istanbulu cok seviyom burada olmak cok guzel\"', 'I want you to act as an interviewer. I will be the candidate and you will ask me the interview questions for the `position` position. I want you to only reply as the interviewer. Do not write all the conservation at once. I want you to only do the interview with me. Ask me the questions and wait for my answers. Do not write explanations. Ask me the questions one by one like an interviewer does and wait for my answers. My first sentence is \"Hi\"']}\n"
     ]
    }
   ],
   "source": [
    "# Check the structure of the dataset before tokenization\n",
    "print(train_dataset[0])  # Print a single row from the dataset\n",
    "\n",
    "# Check the first batch to ensure it's structured as expected\n",
    "print(train_dataset[:5])  # Print the first 5 rows as a batch\n"
   ]
  },
  {
   "cell_type": "code",
   "execution_count": 8,
   "id": "52cb5e59-8aa6-4162-aad6-1bf3ee48ee89",
   "metadata": {},
   "outputs": [],
   "source": [
    "def generate_and_tokenize_prompt(examples):\n",
    "    prompts = examples[\"prompt\"]\n",
    "    max_length =256\n",
    "    formatted_prompts = [formatting_func({\"act\": \"example_act\", \"prompt\": prompt}) for prompt in prompts]\n",
    "    # payload management\n",
    "    result = tokenizer(\n",
    "        formatted_prompts,\n",
    "        truncation=True,\n",
    "        max_length=max_length,\n",
    "        padding=\"max_length\",\n",
    "    )\n",
    "    \n",
    "    result[\"labels\"] = result[\"input_ids\"].copy()\n",
    "    \n",
    "    return result"
   ]
  },
  {
   "cell_type": "code",
   "execution_count": 9,
   "id": "a10f0300-6187-4ead-b464-62b1e4d123c0",
   "metadata": {},
   "outputs": [
    {
     "data": {
      "application/vnd.jupyter.widget-view+json": {
       "model_id": "30efc94d48e84989a1c357d3ce41b312",
       "version_major": 2,
       "version_minor": 0
      },
      "text/plain": [
       "Map:   0%|          | 0/136 [00:00<?, ? examples/s]"
      ]
     },
     "metadata": {},
     "output_type": "display_data"
    },
    {
     "data": {
      "application/vnd.jupyter.widget-view+json": {
       "model_id": "d7328abae50842c99785dfa076593526",
       "version_major": 2,
       "version_minor": 0
      },
      "text/plain": [
       "Map:   0%|          | 0/34 [00:00<?, ? examples/s]"
      ]
     },
     "metadata": {},
     "output_type": "display_data"
    }
   ],
   "source": [
    "# tokenization\n",
    "tokenized_train_dataset = train_dataset.map(generate_and_tokenize_prompt, batched=True)\n",
    "tokenized_val_dataset = eval_dataset.map(generate_and_tokenize_prompt, batched=True)"
   ]
  },
  {
   "cell_type": "code",
   "execution_count": 10,
   "id": "3b2019ba-8662-4cf9-9619-aa3be1c82fd9",
   "metadata": {},
   "outputs": [
    {
     "name": "stdout",
     "output_type": "stream",
     "text": [
      "170\n"
     ]
    },
    {
     "data": {
      "image/png": "[encoded data removed]",
      "text/plain": [
       "<Figure size 1000x600 with 1 Axes>"
      ]
     },
     "metadata": {},
     "output_type": "display_data"
    }
   ],
   "source": [
    "import matplotlib.pyplot as plt\n",
    "def plot_data_lengths(tokenized_train_dataset, tokenized_val_dataset):\n",
    "    lengths = [len(x['input_ids']) for x in tokenized_train_dataset]\n",
    "    lengths += [len(x['input_ids']) for x in tokenized_val_dataset]\n",
    "    print(len(lengths))\n",
    "    plt.figure(figsize=(10, 6))\n",
    "    plt.hist(lengths, bins=20, alpha=0.7, color='blue')\n",
    "    plt.xlabel('Length of input_ids')\n",
    "    plt.ylabel('Frequency')\n",
    "    plt.title('Distribution of Lengths of input_ids')\n",
    "    plt.show()\n",
    "\n",
    "plot_data_lengths(tokenized_train_dataset, tokenized_val_dataset) # the length is fixed due to hardware constraints"
   ]
  },
  {
   "cell_type": "code",
   "execution_count": 11,
   "id": "d59a2c39-e1ae-4a40-a546-b9cc389fc5c9",
   "metadata": {},
   "outputs": [
    {
     "name": "stdout",
     "output_type": "stream",
     "text": [
      "[21017, 2191, 25, 1672, 62, 529, 198, 21017, 45965, 25, 8554, 5313, 47, 23439, 11, 2251, 281, 19001, 329, 281, 2708, 326, 481, 307, 362, 11, 830, 2456, 319, 262, 21179, 705, 13014, 30850, 36454, 6, 1912, 319, 262, 1353, 838, 2482, 422, 3012, 13, 40348, 790, 5981, 9087, 1744, 13, 9175, 262, 21179, 12109, 286, 262, 1182, 654, 1029, 13, 1114, 1123, 2665, 286, 262, 19001, 11, 2291, 262, 1573, 954, 13, 40348, 18749, 82, 2665, 287, 262, 19001, 1165, 11, 1912, 319, 661, 635, 1265, 2665, 422, 3012, 329, 262, 21179, 13, 770, 19001, 1276, 307, 845, 6496, 290, 9815, 11, 523, 326, 314, 460, 2251, 257, 362, 11, 830, 1573, 2708, 422, 340, 13, 2980, 378, 257, 890, 1351, 286, 406, 11584, 290, 399, 19930, 26286, 3519, 284, 616, 21179, 13, 4418, 2291, 597, 584, 2456, 3519, 284, 262, 21179, 13, 13786, 502, 257, 1351, 286, 513, 5981, 7097, 6117, 284, 2291, 290, 262, 7151, 18021, 2420, 13, 6889, 1654, 484, 447, 247, 260, 407, 11780, 6685, 13, 27758, 262, 19001, 656, 636, 352, 290, 636, 362, 13, 50256, 50256, 50256, 50256, 50256, 50256, 50256, 50256, 50256, 50256, 50256, 50256, 50256, 50256, 50256, 50256, 50256, 50256, 50256, 50256, 50256, 50256, 50256, 50256, 50256, 50256, 50256, 50256, 50256, 50256, 50256, 50256, 50256, 50256, 50256, 50256, 50256, 50256, 50256, 50256, 50256, 50256, 50256, 50256, 50256, 50256, 50256, 50256, 50256, 50256, 50256, 50256, 50256, 50256, 50256, 50256, 50256, 50256, 50256, 50256, 50256, 50256, 50256, 50256, 50256, 50256, 50256, 50256, 50256, 50256, 50256, 50256, 50256, 50256, 50256]\n"
     ]
    }
   ],
   "source": [
    "print(tokenized_train_dataset[1]['input_ids'])"
   ]
  },
  {
   "cell_type": "code",
   "execution_count": null,
   "id": "1c8975f0-0bed-4066-9623-a52cf3e51075",
   "metadata": {},
   "outputs": [
    {
     "name": "stderr",
     "output_type": "stream",
     "text": [
      "Setting `pad_token_id` to `eos_token_id`:None for open-end generation.\n"
     ]
    }
   ],
   "source": [
    "import torch\n",
    "eval_prompt  = \"This is a short speech by a CEO of a fintech company of only 100 words\"\n",
    "eval_tokenizer = AutoTokenizer.from_pretrained(\n",
    "    base_model_id,\n",
    "    add_bos_token=True,\n",
    "    use_fast=False, \n",
    ")\n",
    "model_input = eval_tokenizer(eval_prompt, return_tensors=\"pt\").to(\"cpu\")\n",
    "\n",
    "model.eval()\n",
    "with torch.no_grad():\n",
    "    print(eval_tokenizer.decode(model.generate(**model_input, max_new_tokens=256, repetition_penalty=1.15)[0], skip_special_tokens=True))\n"
   ]
  },
  {
   "cell_type": "code",
   "execution_count": null,
   "id": "565d836d-5ee1-40e1-8fce-55e6819b9208",
   "metadata": {},
   "outputs": [],
   "source": [
    "# LORA dimension analysis by returning the trainable params\n",
    "def print_trainable_parameters(model):\n",
    "    trainable_params = 0\n",
    "    all_param = 0\n",
    "    for _, param in model.named_parameters():\n",
    "        all_param += param.numel()\n",
    "        if param.requires_grad:\n",
    "            trainable_params += param.numel()\n",
    "    print(\n",
    "        f\"trainable params: {trainable_params} || all params: {all_param} || trainable%: {100 * trainable_params / all_param}\"\n",
    "    )\n",
    "print_trainable_parameters(model)  "
   ]
  },
  {
   "cell_type": "code",
   "execution_count": null,
   "id": "a6e01e8c-9e8c-4dde-9254-4b1f61ea1f81",
   "metadata": {},
   "outputs": [],
   "source": [
    "print(model)"
   ]
  },
  {
   "cell_type": "code",
   "execution_count": null,
   "id": "0827e293-3e81-4551-8746-2927d6dcd83b",
   "metadata": {},
   "outputs": [],
   "source": [
    "from peft import LoraConfig, get_peft_model\n",
    "import torch\n",
    "from accelerate import Accelerator\n",
    "\n",
    "# Making this device and platform agnostic\n",
    "print(\"CUDA Available: \", torch.cuda.is_available())\n",
    "print(\"Using CPU\")\n",
    "accelerator = Accelerator()\n",
    "\n",
    "config = LoraConfig(\n",
    "    r=32,\n",
    "    lora_alpha=64,\n",
    "    target_modules=[\n",
    "        \"Wqkv\",\n",
    "        \"fc1\",\n",
    "        \"fc2\",\n",
    "    ],\n",
    "    bias=\"none\",\n",
    "    lora_dropout=0.05,  \n",
    "    task_type=\"CAUSAL_LM\",\n",
    ")\n",
    "\n",
    "model = get_peft_model(model, config)\n",
    "model = accelerator.prepare_model(model)\n",
    "def print_trainable_parameters(model):\n",
    "    total_params = sum(p.numel() for p in model.parameters() if p.requires_grad)\n",
    "    print(f\"Total Trainable Parameters: {total_params}\")\n",
    "\n",
    "print_trainable_parameters(model)\n"
   ]
  },
  {
   "cell_type": "code",
   "execution_count": null,
   "id": "95664bd3-5f60-4d84-861b-500db29190f2",
   "metadata": {},
   "outputs": [],
   "source": [
    "!pip install -q -U git+https://github.com/huggingface/accelerate.git"
   ]
  },
  {
   "cell_type": "code",
   "execution_count": null,
   "id": "7d36ba2d-58f0-4027-bb8d-c751a14d53c8",
   "metadata": {},
   "outputs": [],
   "source": [
    "import transformers\n",
    "from datetime import datetime\n",
    "\n",
    "project = \"tensorgo-challenge\"\n",
    "base_model_name = \"phi2\"\n",
    "run_name = f\"{base_model_name}-{project}\"\n",
    "output_dir = f\"./{run_name}\"\n",
    "\n",
    "train_dataset = tokenized_train_dataset.select(range(1))  \n",
    "eval_dataset = tokenized_val_dataset.select(range(1))    \n",
    "\n",
    "trainer = transformers.Trainer(\n",
    "    model=model,\n",
    "    train_dataset=train_dataset,  \n",
    "    eval_dataset=eval_dataset,   \n",
    "    args=transformers.TrainingArguments(\n",
    "        output_dir=output_dir,\n",
    "        per_device_train_batch_size=1, \n",
    "        gradient_accumulation_steps=1,  \n",
    "        max_steps=1,  \n",
    "        learning_rate=2e-5,  \n",
    "        logging_steps=10000, \n",
    "        save_strategy=\"no\", \n",
    "        eval_strategy=\"no\", \n",
    "        do_eval=False,  \n",
    "        report_to=None, \n",
    "        use_cpu=True,  \n",
    "        run_name=None,  \n",
    "    ),\n",
    "    data_collator=transformers.DataCollatorForLanguageModeling(tokenizer, mlm=False),\n",
    ")\n",
    "\n",
    "model.config.use_cache = False\n",
    "\n",
    "trainer.train()\n"
   ]
  },
  {
   "cell_type": "code",
   "execution_count": null,
   "id": "6e058ccf-f632-4e41-8129-1c133d8f82c8",
   "metadata": {},
   "outputs": [],
   "source": [
    "# final test bench\n",
    "import torch\n",
    "from transformers import AutoTokenizer, AutoModelForCausalLM\n",
    "\n",
    "base_model_id = \"microsoft/phi-2\"\n",
    "base_model = AutoModelForCausalLM.from_pretrained(\n",
    "    base_model_id,  # Phi2, same as before\n",
    "    device_map=\"auto\",\n",
    "    trust_remote_code=True,\n",
    "    load_in_8bit=True,\n",
    "    torch_dtype=torch.float16,\n",
    ")\n",
    "\n",
    "eval_tokenizer = AutoTokenizer.from_pretrained(base_model_id, add_bos_token=True, trust_remote_code=True, use_fast=False)\n",
    "eval_tokenizer.pad_token = tokenizer.eos_token"
   ]
  }
 ],
 "metadata": {
  "kernelspec": {
   "display_name": "Python (venv)",
   "language": "python",
   "name": "venv"
  },
  "language_info": {
   "codemirror_mode": {
    "name": "ipython",
    "version": 3
   },
   "file_extension": ".py",
   "mimetype": "text/x-python",
   "name": "python",
   "nbconvert_exporter": "python",
   "pygments_lexer": "ipython3",
   "version": "3.10.12"
  }
 },
 "nbformat": 4,
 "nbformat_minor": 5
}
